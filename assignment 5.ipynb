{
 "cells": [
  {
   "cell_type": "code",
   "execution_count": 2,
   "id": "952b2b3d-3592-4d40-b90d-c0d250e579f5",
   "metadata": {},
   "outputs": [
    {
     "name": "stdout",
     "output_type": "stream",
     "text": [
      "Ritesh is the student of 'Data Science Masters' batch\n",
      "Vaibhav is the student of 'Full Stack Web Development' batch\n"
     ]
    }
   ],
   "source": [
    "# Q.1 Explain Class and Object with respect to Object-Oriented Programming. Give a suitable example.\n",
    "# Ans\n",
    "#    class : A class is a blueprint or template for creating objects. It defines the properties and method \n",
    "#             that an object of that class will have.\n",
    "#     For Example : We can have a class\"Pwskills\" with properties like name , course and methods like : Intoduction().\n",
    "    \n",
    "#     Object : An object is an instance of class. Objects is a real world entity with its properties and methods.\n",
    "#              An object is created based on the class blueprint  and its uniqe properties and methods.\n",
    "#     For Example: we can have object like \"student1\", \"student2\" of class pwskills\n",
    "    \n",
    "class pwskills:\n",
    "    def __init__(self, name, course):\n",
    "        self.name = name\n",
    "        self.course = course\n",
    "    def Introduction(self):\n",
    "        print(f\"{self.name} is the student of {self.course} batch\")\n",
    "\n",
    "student1 = pwskills(\"Ritesh\", \"'Data Science Masters'\")\n",
    "student2 = pwskills(\"Vaibhav\", \"'Full Stack Web Development'\")\n",
    "\n",
    "student1.Introduction()\n",
    "student2.Introduction()"
   ]
  },
  {
   "cell_type": "code",
   "execution_count": 7,
   "id": "6bf8c158-f3b2-4567-ba92-4c4c8a75fa95",
   "metadata": {},
   "outputs": [
    {
     "data": {
      "text/plain": [
       "'Q.2 Name the four pillers of Oops?\\n\\nAns: The for pillers of Oops are: \\n     1 Encapsulation\\n     2 Inheritance\\n     3 Abstraction\\n     4 polymorphism'"
      ]
     },
     "execution_count": 7,
     "metadata": {},
     "output_type": "execute_result"
    }
   ],
   "source": [
    "'''Q.2 Name the four pillers of Oops?\n",
    "\n",
    "Ans: The for pillers of Oops are: \n",
    "     1 Encapsulation\n",
    "     2 Inheritance\n",
    "     3 Abstraction\n",
    "     4 polymorphism'''"
   ]
  },
  {
   "cell_type": "code",
   "execution_count": 4,
   "id": "103bd340-29c9-45bd-a3ff-bb3dadd67357",
   "metadata": {},
   "outputs": [
    {
     "name": "stdout",
     "output_type": "stream",
     "text": [
      "Ritesh\n",
      "Data Science Master\n"
     ]
    }
   ],
   "source": [
    "# Q.3: Explain why the __init__() function is used.Give a suitable example.\n",
    " \n",
    "# Ans:\n",
    "#    __init__() function : In python __init__() function is used in Object orienterd programming.  \n",
    "#      when a new object is created from a class then this function is automatically invoked. this method only allows \n",
    "#      the class to initialize to take the attributes of object with its values .In python this function is  known as constructor. \n",
    "#  Example:\n",
    "\n",
    "\n",
    "class Pwskills:\n",
    "    def __init__(self, name , course):\n",
    "        self.name = name\n",
    "        self.course = course \n",
    "student1 = Pwskills(\"Ritesh\" , \"Data Science Master\")\n",
    "print(student1.name)   \n",
    "print(student1.course)\n",
    "\n",
    "# In this example, when a \"student1\" object is created. the init function called \"name\" and \"course\" as arguments.\n",
    "# this method initialize to take object's atributes with its values"
   ]
  },
  {
   "cell_type": "code",
   "execution_count": 6,
   "id": "7aea3894-7157-4cbf-83e7-f4c129668182",
   "metadata": {},
   "outputs": [
    {
     "data": {
      "text/plain": [
       "'Q4. Why self is used in OOPs?\\n\\nAns: \"self\"refers to the object on which class method is applied. by using the self keyword we can easily access\\n     all the instance of class and its methods. It binds the attributes with the given arguments. The reason you\\n     need to use self is because Python does not use the @ syntax to refer to instance attributes.\\n     self is not a reserve keyword in python. we can use any word instead of self.'"
      ]
     },
     "execution_count": 6,
     "metadata": {},
     "output_type": "execute_result"
    }
   ],
   "source": [
    "'''Q4. Why self is used in OOPs?\n",
    "\n",
    "Ans: \"self\"refers to the object on which class method is applied. by using the self keyword we can easily access\n",
    "     all the instance of class and its methods. It binds the attributes with the given arguments. The reason you\n",
    "     need to use self is because Python does not use the @ syntax to refer to instance attributes.\n",
    "     self is not a reserve keyword in python. we can use any word instead of self.'''\n",
    "     "
   ]
  },
  {
   "cell_type": "code",
   "execution_count": 8,
   "id": "073127d4-2f4b-4fe7-91e9-0065453d29b6",
   "metadata": {},
   "outputs": [
    {
     "name": "stdout",
     "output_type": "stream",
     "text": [
      " Single Inheritance \n",
      "\n",
      "This is the functions of base class.\n",
      "This is the function of child class.\n",
      "\n",
      " multiple Inheristance \n",
      "\n",
      "This is the functions of 1st base class.\n",
      "This is the functions of 2st base class.\n",
      "This is the function of child class.\n",
      "\n",
      " multilevel Inheristance \n",
      "\n",
      "This is the functions of 1st base class.\n",
      "This is the functions of 2st base class.\n",
      "This is the function of child class.\n",
      "\n",
      " Hierachical Inheristance \n",
      "\n",
      "This is the functions of base class.\n",
      "This is the functions of 1st child class.\n",
      "This is the functions of base class.\n",
      "This is the function of 2nd child class.\n",
      "\n",
      " Hybrid Inheritance \n",
      "\n",
      "This function is in class_1.\n",
      "This function is in class_2. \n"
     ]
    }
   ],
   "source": [
    "# Q.5: What is inheritance? Give an example for each type of inheritance.\n",
    "\n",
    "# Ans : Inheritance : Inheritance is defined as the mechenisam of inherit or access all the properties and method of a \n",
    "#       base claas in a derived child class. thus enabling code reusability and the addition of new features to existing code.\n",
    "#      There are five type of Inheritance:\n",
    "    # 1 Single Inheritance \n",
    "    # 2 Multiple Inheritance\n",
    "    # 3 Multilevel Inheritance\n",
    "    # 4 Hierachical Inheritance\n",
    "    # 5 Hybrid Inheritance\n",
    "\n",
    "       \n",
    "# 1 Single Inheritance : when a child class is inherited from a single base class then that is called single inheritance.\n",
    "# Example: \n",
    "print(\" Single Inheritance \\n\")\n",
    "\n",
    "class Base_class:\n",
    "    def func1(self):\n",
    "        print(\"This is the functions of base class.\")\n",
    "\n",
    "class child_class(Base_class):\n",
    "    def func2(self):\n",
    "        print(\"This is the function of child class.\")\n",
    "\n",
    "obj_1 = child_class()\n",
    "obj_1.func1()\n",
    "obj_1.func2()\n",
    "\n",
    "\n",
    "# 2 Multiple Inheritance : when a child class is inherited from multiple base classes then that is called multiple inheritance.\n",
    "# Example:\n",
    "print(\"\\n multiple Inheristance \\n\")\n",
    "    \n",
    "class Base_class_1:\n",
    "    def func1(self):\n",
    "        print(\"This is the functions of 1st base class.\")\n",
    "        \n",
    "class Base_class_2:\n",
    "    def func2(self):\n",
    "        print(\"This is the functions of 2st base class.\")\n",
    "\n",
    "class child_class(Base_class_1, Base_class_2):\n",
    "    def func3(self):\n",
    "        print(\"This is the function of child class.\")\n",
    "\n",
    "obj_1 = child_class()\n",
    "obj_1.func1()\n",
    "obj_1.func2()\n",
    "obj_1.func3()\n",
    "\n",
    "# 3 Multilevel Inheritance : when a child class is inherited from a base class which is already inherited from other class then \n",
    "                           # that is called multilevel inheritance\n",
    "    \n",
    "print(\"\\n multilevel Inheristance \\n\")\n",
    "    \n",
    "class Base_class_1:\n",
    "    def func1(self):\n",
    "        print(\"This is the functions of 1st base class.\")\n",
    "        \n",
    "class Base_class_2(Base_class_1):\n",
    "    def func2(self):\n",
    "        print(\"This is the functions of 2st base class.\")\n",
    "\n",
    "class child_class(Base_class_2):\n",
    "    def func3(self):\n",
    "        print(\"This is the function of child class.\")\n",
    "\n",
    "obj_1 = child_class()\n",
    "obj_1.func1()\n",
    "obj_1.func2()\n",
    "obj_1.func3()\n",
    "\n",
    "# 4 Hierachical Inheritance : when a base class is inherited into more then one derived class then that is called Hierachical Inheritance.\n",
    "\n",
    "print(\"\\n Hierachical Inheristance \\n\")\n",
    "    \n",
    "class Base_class:\n",
    "    def func1(self):\n",
    "        print(\"This is the functions of base class.\")\n",
    "        \n",
    "class child_1(Base_class):\n",
    "    def func2(self):\n",
    "        print(\"This is the functions of 1st child class.\")\n",
    "\n",
    "class child_2(Base_class):\n",
    "    def func3(self):\n",
    "        print(\"This is the function of 2nd child class.\")\n",
    "\n",
    "obj_1 = child_1()\n",
    "obj_2 = child_2()\n",
    "obj_1.func1()\n",
    "obj_1.func2()\n",
    "obj_2.func1()\n",
    "obj_2.func3()\n",
    "\n",
    "# 5 Hybrid Inheritance : When multiple inheritance takes place in a single program then that is called Hybrid Inheritance.\n",
    "print(\"\\n Hybrid Inheritance \\n\")\n",
    "class class_1:\n",
    "    def func1(self):\n",
    "        print(\"This function is in class_1.\")\n",
    " \n",
    " \n",
    "class class_2(class_1):\n",
    "    def func2(self):\n",
    "        print(\"This function is in class_2. \")\n",
    " \n",
    " \n",
    "class class_3(class_1):\n",
    "    def func3(self):\n",
    "        print(\"This function is in class_3.\")\n",
    " \n",
    " \n",
    "class class_4(class_2, class_1):\n",
    "    def func4(self):\n",
    "        print(\"This function is in student 3.\")\n",
    " \n",
    " \n",
    "\n",
    "object = class_4()\n",
    "object.func1()\n",
    "object.func2()"
   ]
  },
  {
   "cell_type": "code",
   "execution_count": null,
   "id": "d9cb105a-81a6-438f-b503-f5db8c3bbe25",
   "metadata": {},
   "outputs": [],
   "source": []
  }
 ],
 "metadata": {
  "kernelspec": {
   "display_name": "Python 3 (ipykernel)",
   "language": "python",
   "name": "python3"
  },
  "language_info": {
   "codemirror_mode": {
    "name": "ipython",
    "version": 3
   },
   "file_extension": ".py",
   "mimetype": "text/x-python",
   "name": "python",
   "nbconvert_exporter": "python",
   "pygments_lexer": "ipython3",
   "version": "3.10.8"
  }
 },
 "nbformat": 4,
 "nbformat_minor": 5
}
